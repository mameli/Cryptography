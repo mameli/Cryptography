{
 "cells": [
  {
   "cell_type": "markdown",
   "metadata": {},
   "source": [
    "# Algoritmo di Euclide esteso"
   ]
  },
  {
   "cell_type": "code",
   "execution_count": 1,
   "metadata": {},
   "outputs": [],
   "source": [
    "import math\n",
    "import random\n",
    "import timeit"
   ]
  },
  {
   "cell_type": "code",
   "execution_count": 2,
   "metadata": {
    "collapsed": true
   },
   "outputs": [],
   "source": [
    "def euclideEsteso(a, b):\n",
    "    x0, x1, y0, y1 = 1, 0, 0, 1\n",
    "    bStart = b\n",
    "    while b != 0:\n",
    "        quotient = a // b\n",
    "        a, b = b, a % b\n",
    "        x0, x1 = x1, x0 - quotient * x1\n",
    "        y0, y1 = y1, y0 - quotient * y1\n",
    "    return (a, x0, y0) if a != 1 else (a, x0, y0, x0 % bStart)"
   ]
  },
  {
   "cell_type": "code",
   "execution_count": 3,
   "metadata": {},
   "outputs": [
    {
     "data": {
      "text/plain": [
       "(1, -2, 1, 9)"
      ]
     },
     "execution_count": 3,
     "metadata": {},
     "output_type": "execute_result"
    }
   ],
   "source": [
    "euclideEsteso(5, 11)"
   ]
  },
  {
   "cell_type": "code",
   "execution_count": 51,
   "metadata": {},
   "outputs": [
    {
     "data": {
      "text/plain": [
       "(4, -2, 1)"
      ]
     },
     "execution_count": 51,
     "metadata": {},
     "output_type": "execute_result"
    }
   ],
   "source": [
    "euclideEsteso(12, 28)"
   ]
  },
  {
   "cell_type": "markdown",
   "metadata": {},
   "source": [
    "# Algoritmo di esponenziazione modulare veloce"
   ]
  },
  {
   "cell_type": "code",
   "execution_count": 58,
   "metadata": {
    "collapsed": true
   },
   "outputs": [],
   "source": [
    "def expVeloce(a, n, m):\n",
    "    d = 1\n",
    "    binN = \"{0:b}\".format(n)\n",
    "    for i in binN:\n",
    "        d = (d * d) % m\n",
    "        if i == '1':\n",
    "            d = (d * a) % m\n",
    "    return d"
   ]
  },
  {
   "cell_type": "code",
   "execution_count": 59,
   "metadata": {},
   "outputs": [
    {
     "data": {
      "text/plain": [
       "7"
      ]
     },
     "execution_count": 59,
     "metadata": {},
     "output_type": "execute_result"
    }
   ],
   "source": [
    "expVeloce(3, 11, 10)"
   ]
  },
  {
   "cell_type": "markdown",
   "metadata": {},
   "source": [
    "# Test di Miller-Rabin"
   ]
  },
  {
   "cell_type": "code",
   "execution_count": 72,
   "metadata": {
    "collapsed": true
   },
   "outputs": [],
   "source": [
    "def rabinTest(x, n):\n",
    "    m = n - 1\n",
    "    r = 0\n",
    "    while m % 2 == 0:\n",
    "        m //= 2\n",
    "        r += 1\n",
    "    xr = expVeloce(x, m, n)\n",
    "    if xr == 1 or xr == n - 1:\n",
    "        return False\n",
    "    for i in range(r):\n",
    "        xr = expVeloce(xr, 2, n)\n",
    "        if xr == n - 1:\n",
    "            return False\n",
    "    return True\n",
    "\n",
    "def rabinTestSample(x, n):\n",
    "    m = n - 1\n",
    "    r = 0\n",
    "    while m % 2 == 0:\n",
    "        m //= 2\n",
    "        r += 1\n",
    "    xr = expVeloce(x, m, n)\n",
    "    if xr == 1 or xr == n - 1:\n",
    "        print 'x0 ', xr\n",
    "        return False\n",
    "    print 'x0 ', xr\n",
    "    for i in range(r):\n",
    "        xr = expVeloce(xr, 2, n)\n",
    "        print 'x' + str(i + 1), '', xr\n",
    "        if xr == n - 1:\n",
    "            return False\n",
    "    return True"
   ]
  },
  {
   "cell_type": "code",
   "execution_count": 76,
   "metadata": {},
   "outputs": [
    {
     "name": "stdout",
     "output_type": "stream",
     "text": [
      "x0  32\n",
      "x1  40\n"
     ]
    },
    {
     "data": {
      "text/plain": [
       "False"
      ]
     },
     "execution_count": 76,
     "metadata": {},
     "output_type": "execute_result"
    }
   ],
   "source": [
    "rabinTestSample(2, 41)"
   ]
  },
  {
   "cell_type": "markdown",
   "metadata": {},
   "source": [
    "# Algoritmo per la generazione di numeri primi"
   ]
  },
  {
   "cell_type": "code",
   "execution_count": 144,
   "metadata": {
    "collapsed": true
   },
   "outputs": [],
   "source": [
    "def isPrime(r, k):\n",
    "    for i in range(k):\n",
    "        baton = random.randint(1, r)\n",
    "        if rabinTest(baton, r) is True:\n",
    "            return False\n",
    "    return True\n",
    "\n",
    "\n",
    "def generatePrime(bottom, top, k):\n",
    "    r = random.randint(bottom, top)\n",
    "    while r % 2 == 0 or not isPrime(r, k):\n",
    "        r = random.randint(bottom, top)\n",
    "    return r"
   ]
  },
  {
   "cell_type": "code",
   "execution_count": 145,
   "metadata": {},
   "outputs": [
    {
     "name": "stdout",
     "output_type": "stream",
     "text": [
      "89\n",
      "cifre 2\n"
     ]
    }
   ],
   "source": [
    "prime = generatePrime(pow(10, 1), pow(10, 2), 8)\n",
    "print prime\n",
    "print 'cifre', len(str(prime))"
   ]
  },
  {
   "cell_type": "code",
   "execution_count": 148,
   "metadata": {},
   "outputs": [
    {
     "name": "stdout",
     "output_type": "stream",
     "text": [
      "Tempo impiegato  0.0601627826691\n"
     ]
    }
   ],
   "source": [
    "def wrapper():\n",
    "    return generatePrime(10**100, (10**(100 + 1)), 16)\n",
    "    \n",
    "print \"Tempo impiegato \",(timeit.timeit(wrapper, number=1))"
   ]
  },
  {
   "cell_type": "markdown",
   "metadata": {},
   "source": [
    "# Schema RSA"
   ]
  },
  {
   "cell_type": "code",
   "execution_count": 84,
   "metadata": {
    "collapsed": true
   },
   "outputs": [],
   "source": [
    "def encrypt(m, keyPub):\n",
    "    e = keyPub[0]\n",
    "    n = keyPub[1]\n",
    "    return expVeloce(m, e, n)\n",
    "\n",
    "\n",
    "def decrypt(c, keyPriv):\n",
    "    d = keyPriv[0]\n",
    "    n = keyPriv[1]\n",
    "    return expVeloce(c, d, n)\n",
    "\n",
    "\n",
    "def coPrime(n):\n",
    "    c = 2\n",
    "    while euclideEsteso(c, n)[0] != 1 or euclideEsteso(c, n)[1] < 1:\n",
    "        c += 1 \n",
    "    return c\n",
    "\n",
    "\n",
    "def generateKey(p, q):\n",
    "    n = p * q\n",
    "    phi = (p - 1) * (q - 1)\n",
    "    d = coPrime(phi)\n",
    "    e = euclideEsteso(d, phi)[1]\n",
    "    kPub = (e, n)\n",
    "    kPriv = (d, n)\n",
    "    return kPub, kPriv"
   ]
  },
  {
   "cell_type": "code",
   "execution_count": 86,
   "metadata": {},
   "outputs": [
    {
     "name": "stdout",
     "output_type": "stream",
     "text": [
      "Chiave pubblica (7, 33)\n",
      "Chiave privata (3, 33)\n",
      "Cyphertext 2\n",
      "Plaintext 8\n"
     ]
    }
   ],
   "source": [
    "public_key, private_key = generateKey(3, 11)\n",
    "print \"Chiave pubblica\",public_key\n",
    "print \"Chiave privata\",private_key\n",
    "print \"Cyphertext\", encrypt(8, public_key)\n",
    "print \"Plaintext\", decrypt(encrypt(8, public_key), private_key)"
   ]
  },
  {
   "cell_type": "markdown",
   "metadata": {},
   "source": [
    "# Schema RSA con ottimizzazione CRT"
   ]
  },
  {
   "cell_type": "code",
   "execution_count": 85,
   "metadata": {},
   "outputs": [],
   "source": [
    "def generateKeyCrt(p, q):\n",
    "    n = p * q\n",
    "    phi = (p - 1) * (q - 1)\n",
    "    d = coPrime(phi)\n",
    "    e = euclideEsteso(d, phi)[1]\n",
    "    invPmodQ = euclideEsteso(q, p)[3]\n",
    "    invQmodP = euclideEsteso(p, q)[3]\n",
    "    kPub = (e, n)\n",
    "    kPriv = (d, p, q, invPmodQ*q, invQmodP*p, n)\n",
    "    return kPub, kPriv\n",
    "\n",
    "\n",
    "def decryptCrt(c, keyPriv):\n",
    "    mP = expVeloce(c, keyPriv[0], keyPriv[1])\n",
    "    mQ = expVeloce(c, keyPriv[0], keyPriv[2])\n",
    "    return ((mP*keyPriv[3]) + (mQ*keyPriv[4])) % keyPriv[5]"
   ]
  },
  {
   "cell_type": "code",
   "execution_count": 87,
   "metadata": {},
   "outputs": [
    {
     "name": "stdout",
     "output_type": "stream",
     "text": [
      "Chiave pubblica (7, 33)\n",
      "Chiave privata (3, 3, 11, 22, 12, 33)\n",
      "2\n",
      "8\n"
     ]
    }
   ],
   "source": [
    "public_key, private_key = generateKeyCrt(3, 11)\n",
    "print \"Chiave pubblica\",public_key\n",
    "print \"Chiave privata\",private_key\n",
    "encr = encrypt(8, public_key)\n",
    "print(encr)\n",
    "print(decryptCrt(encr, private_key))"
   ]
  },
  {
   "cell_type": "markdown",
   "metadata": {},
   "source": [
    "# Confronto tra RSA e RSA con Crt"
   ]
  },
  {
   "cell_type": "code",
   "execution_count": 27,
   "metadata": {
    "collapsed": true
   },
   "outputs": [],
   "source": [
    "def testRsa(listC, keyPriv):\n",
    "    return [decrypt(listC[i], keyPriv) for i in range(sampleSize)]\n",
    "        \n",
    "def testRsaCrt(listC, keyPrivCrt):\n",
    "    return [decryptCrt(listC[i], keyPrivCrt) for i in range(sampleSize)]"
   ]
  },
  {
   "cell_type": "code",
   "execution_count": 138,
   "metadata": {},
   "outputs": [
    {
     "name": "stdout",
     "output_type": "stream",
     "text": [
      "p generato\n",
      "q generato\n",
      "Tempi rsa standard\n",
      "1 loop, best of 100: 7.3 ms per loop\n",
      "Tempi rsa crt\n",
      "1 loop, best of 100: 6.92 ms per loop\n",
      "Tutti i decrypt sono uguali ai plain di partenza? True\n"
     ]
    }
   ],
   "source": [
    "sampleSize = 100\n",
    "primeC = 512\n",
    "\n",
    "p = generatePrime(10**primeC, (10**(primeC + 1)), 2)\n",
    "print 'p generato'\n",
    "q = generatePrime(10**primeC, (10**(primeC + 1)), 2)\n",
    "print 'q generato'\n",
    "n = p * q\n",
    "phi = (p - 1) * (q - 1)\n",
    "d = coPrime(phi)\n",
    "keyPub, keyPriv = generateKey(p, q)\n",
    "keyPubCrt, keyPrivCrt = generateKeyCrt(p, q)\n",
    "listPlaintext  = [random.randint(1, 10) for _ in range(sampleSize)]\n",
    "listCiphertext = [encrypt(listPlaintext[i], keyPub) for i in range(sampleSize)]\n",
    "\n",
    "print \"Tempi rsa standard\"\n",
    "resultStandard = testRsa(listCiphertext, keyPriv)\n",
    "testTimeStandard = %%timeit -n1 -r100 -o testRsa(listCiphertext, keyPriv)\n",
    "\n",
    "print \"Tempi rsa crt\"\n",
    "resultCrt = testRsaCrt(listCiphertext, keyPrivCrt)\n",
    "testTimeCrt = %%timeit -n1 -r100 -o testRsaCrt(listCiphertext, keyPrivCrt)\n",
    "\n",
    "print \"Tutti i decrypt sono uguali ai plain di partenza?\", resultCrt == resultStandard == listPlaintext"
   ]
  },
  {
   "cell_type": "code",
   "execution_count": 136,
   "metadata": {},
   "outputs": [
    {
     "name": "stdout",
     "output_type": "stream",
     "text": [
      "16.4245900237 %\n"
     ]
    }
   ],
   "source": [
    "def percent(time1, time2):\n",
    "    return ((time1 / time2)-1)*100\n",
    "mediaStandard = sum(testTimeStandard.all_runs) / testTimeStandard.repeat\n",
    "mediaCrt = sum(testTimeCrt.all_runs) / testTimeCrt.repeat\n",
    "print percent(mediaStandard, mediaCrt), \"%\""
   ]
  },
  {
   "cell_type": "code",
   "execution_count": null,
   "metadata": {
    "collapsed": true
   },
   "outputs": [],
   "source": []
  }
 ],
 "metadata": {
  "kernelspec": {
   "display_name": "Python 2",
   "language": "python",
   "name": "python2"
  },
  "language_info": {
   "codemirror_mode": {
    "name": "ipython",
    "version": 2
   },
   "file_extension": ".py",
   "mimetype": "text/x-python",
   "name": "python",
   "nbconvert_exporter": "python",
   "pygments_lexer": "ipython2",
   "version": "2.7.13"
  }
 },
 "nbformat": 4,
 "nbformat_minor": 2
}
